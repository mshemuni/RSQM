{
 "cells": [
  {
   "cell_type": "code",
   "execution_count": 3,
   "metadata": {},
   "outputs": [],
   "source": [
    "#Import modules\n",
    "from sqm import env\n",
    "from sqm import ast\n",
    "from sqm import data"
   ]
  },
  {
   "cell_type": "code",
   "execution_count": 4,
   "metadata": {},
   "outputs": [
    {
     "name": "stdout",
     "output_type": "stream",
     "text": [
      "[2020-04-07T06:55:44|Windows, 10, Intel64 Family 6 Model 79 Stepping 1, GenuineIntel][env.py(70)<-env.py(82)<-env.py(37)<-<ipython-input-4-f5526ac8ce86>(2)<-interactiveshell.py(3331)<-interactiveshell.py(3254)<-interactiveshell.py(3063)<-async_helpers.py(68)<-interactiveshell.py(2886)<-interactiveshell.py(2858)<-zmqshell.py(536)<-ipkernel.py(300)<-gen.py(209)<-kernelbase.py(545)<-gen.py(209)<-kernelbase.py(268)<-gen.py(209)<-kernelbase.py(365)<-gen.py(748)<-gen.py(787)<-ioloop.py(743)<-ioloop.py(690)<-events.py(88)<-base_events.py(1782)<-base_events.py(538)<-asyncio.py(149)<-kernelapp.py(583)<-application.py(664)<-ipykernel_launcher.py(16)<-runpy.py(85)<-runpy.py(193)] --> LOGGER Started with no log file\n"
     ]
    }
   ],
   "source": [
    "#Create logger\n",
    "logger = env.Logger(blabla=True)"
   ]
  },
  {
   "cell_type": "code",
   "execution_count": 5,
   "metadata": {},
   "outputs": [],
   "source": [
    "#create a connection to SQM device over com4\n",
    "dh = data.Handle(logger, \"com4\")"
   ]
  },
  {
   "cell_type": "code",
   "execution_count": 6,
   "metadata": {},
   "outputs": [],
   "source": [
    "#Create Site object\n",
    "coord = ast.Coordinates(logger)\n",
    "longitude = coord.create_angle(\"39.7833 degree\")\n",
    "latitude = coord.create_angle(\"41.2333 degree\")\n",
    "elevation = 3170\n",
    "dag = ast.Site(logger, latitude, longitude, elevation, name=\"DAG\")"
   ]
  },
  {
   "cell_type": "code",
   "execution_count": 7,
   "metadata": {},
   "outputs": [],
   "source": [
    "#Create Time object\n",
    "tim = ast.Time(logger)\n",
    "tim_calc = ast.TimeCalc(logger, dag)"
   ]
  },
  {
   "cell_type": "code",
   "execution_count": 9,
   "metadata": {},
   "outputs": [
    {
     "name": "stdout",
     "output_type": "stream",
     "text": [
      "[2020-04-07T06:57:20|Windows, 10, Intel64 Family 6 Model 79 Stepping 1, GenuineIntel][env.py(70)<-env.py(82)<-data.py(56)<-<ipython-input-9-b713d74d4ea2>(3)<-interactiveshell.py(3331)<-interactiveshell.py(3254)<-interactiveshell.py(3063)<-async_helpers.py(68)<-interactiveshell.py(2886)<-interactiveshell.py(2858)<-zmqshell.py(536)<-ipkernel.py(300)<-gen.py(209)<-kernelbase.py(545)<-gen.py(209)<-kernelbase.py(268)<-gen.py(209)<-kernelbase.py(365)<-gen.py(748)<-gen.py(787)<-ioloop.py(743)<-ioloop.py(690)<-events.py(88)<-base_events.py(1782)<-base_events.py(538)<-asyncio.py(149)<-kernelapp.py(583)<-application.py(664)<-ipykernel_launcher.py(16)<-runpy.py(85)<-runpy.py(193)] --> Calculating mean and standard deviation of (5) samples\n",
      "[2020-04-07T06:57:20|Windows, 10, Intel64 Family 6 Model 79 Stepping 1, GenuineIntel][env.py(70)<-env.py(82)<-data.py(83)<-data.py(60)<-<ipython-input-9-b713d74d4ea2>(3)<-interactiveshell.py(3331)<-interactiveshell.py(3254)<-interactiveshell.py(3063)<-async_helpers.py(68)<-interactiveshell.py(2886)<-interactiveshell.py(2858)<-zmqshell.py(536)<-ipkernel.py(300)<-gen.py(209)<-kernelbase.py(545)<-gen.py(209)<-kernelbase.py(268)<-gen.py(209)<-kernelbase.py(365)<-gen.py(748)<-gen.py(787)<-ioloop.py(743)<-ioloop.py(690)<-events.py(88)<-base_events.py(1782)<-base_events.py(538)<-asyncio.py(149)<-kernelapp.py(583)<-application.py(664)<-ipykernel_launcher.py(16)<-runpy.py(85)<-runpy.py(193)] --> Creating a connetion to port (com4)\n",
      "[2020-04-07T06:57:20|Windows, 10, Intel64 Family 6 Model 79 Stepping 1, GenuineIntel][env.py(70)<-env.py(82)<-data.py(94)<-data.py(62)<-<ipython-input-9-b713d74d4ea2>(3)<-interactiveshell.py(3331)<-interactiveshell.py(3254)<-interactiveshell.py(3063)<-async_helpers.py(68)<-interactiveshell.py(2886)<-interactiveshell.py(2858)<-zmqshell.py(536)<-ipkernel.py(300)<-gen.py(209)<-kernelbase.py(545)<-gen.py(209)<-kernelbase.py(268)<-gen.py(209)<-kernelbase.py(365)<-gen.py(748)<-gen.py(787)<-ioloop.py(743)<-ioloop.py(690)<-events.py(88)<-base_events.py(1782)<-base_events.py(538)<-asyncio.py(149)<-kernelapp.py(583)<-application.py(664)<-ipykernel_launcher.py(16)<-runpy.py(85)<-runpy.py(193)] --> Reading a line from device at (com4)\n",
      "[2020-04-07T06:57:20|Windows, 10, Intel64 Family 6 Model 79 Stepping 1, GenuineIntel][env.py(70)<-env.py(82)<-data.py(94)<-data.py(62)<-<ipython-input-9-b713d74d4ea2>(3)<-interactiveshell.py(3331)<-interactiveshell.py(3254)<-interactiveshell.py(3063)<-async_helpers.py(68)<-interactiveshell.py(2886)<-interactiveshell.py(2858)<-zmqshell.py(536)<-ipkernel.py(300)<-gen.py(209)<-kernelbase.py(545)<-gen.py(209)<-kernelbase.py(268)<-gen.py(209)<-kernelbase.py(365)<-gen.py(748)<-gen.py(787)<-ioloop.py(743)<-ioloop.py(690)<-events.py(88)<-base_events.py(1782)<-base_events.py(538)<-asyncio.py(149)<-kernelapp.py(583)<-application.py(664)<-ipykernel_launcher.py(16)<-runpy.py(85)<-runpy.py(193)] --> Reading a line from device at (com4)\n",
      "[2020-04-07T06:57:20|Windows, 10, Intel64 Family 6 Model 79 Stepping 1, GenuineIntel][env.py(70)<-env.py(82)<-data.py(94)<-data.py(62)<-<ipython-input-9-b713d74d4ea2>(3)<-interactiveshell.py(3331)<-interactiveshell.py(3254)<-interactiveshell.py(3063)<-async_helpers.py(68)<-interactiveshell.py(2886)<-interactiveshell.py(2858)<-zmqshell.py(536)<-ipkernel.py(300)<-gen.py(209)<-kernelbase.py(545)<-gen.py(209)<-kernelbase.py(268)<-gen.py(209)<-kernelbase.py(365)<-gen.py(748)<-gen.py(787)<-ioloop.py(743)<-ioloop.py(690)<-events.py(88)<-base_events.py(1782)<-base_events.py(538)<-asyncio.py(149)<-kernelapp.py(583)<-application.py(664)<-ipykernel_launcher.py(16)<-runpy.py(85)<-runpy.py(193)] --> Reading a line from device at (com4)\n",
      "[2020-04-07T06:57:20|Windows, 10, Intel64 Family 6 Model 79 Stepping 1, GenuineIntel][env.py(70)<-env.py(82)<-data.py(94)<-data.py(62)<-<ipython-input-9-b713d74d4ea2>(3)<-interactiveshell.py(3331)<-interactiveshell.py(3254)<-interactiveshell.py(3063)<-async_helpers.py(68)<-interactiveshell.py(2886)<-interactiveshell.py(2858)<-zmqshell.py(536)<-ipkernel.py(300)<-gen.py(209)<-kernelbase.py(545)<-gen.py(209)<-kernelbase.py(268)<-gen.py(209)<-kernelbase.py(365)<-gen.py(748)<-gen.py(787)<-ioloop.py(743)<-ioloop.py(690)<-events.py(88)<-base_events.py(1782)<-base_events.py(538)<-asyncio.py(149)<-kernelapp.py(583)<-application.py(664)<-ipykernel_launcher.py(16)<-runpy.py(85)<-runpy.py(193)] --> Reading a line from device at (com4)\n",
      "[2020-04-07T06:57:20|Windows, 10, Intel64 Family 6 Model 79 Stepping 1, GenuineIntel][env.py(70)<-env.py(82)<-data.py(94)<-data.py(62)<-<ipython-input-9-b713d74d4ea2>(3)<-interactiveshell.py(3331)<-interactiveshell.py(3254)<-interactiveshell.py(3063)<-async_helpers.py(68)<-interactiveshell.py(2886)<-interactiveshell.py(2858)<-zmqshell.py(536)<-ipkernel.py(300)<-gen.py(209)<-kernelbase.py(545)<-gen.py(209)<-kernelbase.py(268)<-gen.py(209)<-kernelbase.py(365)<-gen.py(748)<-gen.py(787)<-ioloop.py(743)<-ioloop.py(690)<-events.py(88)<-base_events.py(1782)<-base_events.py(538)<-asyncio.py(149)<-kernelapp.py(583)<-application.py(664)<-ipykernel_launcher.py(16)<-runpy.py(85)<-runpy.py(193)] --> Reading a line from device at (com4)\n",
      "[2020-04-07T06:57:20|Windows, 10, Intel64 Family 6 Model 79 Stepping 1, GenuineIntel][env.py(70)<-env.py(82)<-data.py(109)<-data.py(68)<-<ipython-input-9-b713d74d4ea2>(3)<-interactiveshell.py(3331)<-interactiveshell.py(3254)<-interactiveshell.py(3063)<-async_helpers.py(68)<-interactiveshell.py(2886)<-interactiveshell.py(2858)<-zmqshell.py(536)<-ipkernel.py(300)<-gen.py(209)<-kernelbase.py(545)<-gen.py(209)<-kernelbase.py(268)<-gen.py(209)<-kernelbase.py(365)<-gen.py(748)<-gen.py(787)<-ioloop.py(743)<-ioloop.py(690)<-events.py(88)<-base_events.py(1782)<-base_events.py(538)<-asyncio.py(149)<-kernelapp.py(583)<-application.py(664)<-ipykernel_launcher.py(16)<-runpy.py(85)<-runpy.py(193)] --> Closeing connection to port (com4)\n",
      "148.23648169538197 deg {'JD': 2458946.7898201644, 'Mag': 11.278, 'STDV': 0.003999999999999915, 'CMag': -2.390813618156731, 'CSTDV': 0.003965540988080818, 'Temperature': 22.8, 'TemperatureSTDV': 0.0, 'N': 5, 'Valid': 5}\n"
     ]
    }
   ],
   "source": [
    "now = tim.now(utc=True)\n",
    "if not tim_calc.is_night(now):\n",
    "    data = dh.mean_read(5)\n",
    "    moon = ast.Moon(logger, now)\n",
    "    moon_alt_az = dag.altaz(moon, now)\n",
    "    sqm_alt_az = coord.alt_az(\"30 degree\", \"180 degree\")\n",
    "    dist = coord.distance(moon_alt_az, sqm_alt_az)\n",
    "    print(dist, data)"
   ]
  },
  {
   "cell_type": "code",
   "execution_count": null,
   "metadata": {},
   "outputs": [],
   "source": []
  }
 ],
 "metadata": {
  "kernelspec": {
   "display_name": "Python 3",
   "language": "python",
   "name": "python3"
  },
  "language_info": {
   "codemirror_mode": {
    "name": "ipython",
    "version": 3
   },
   "file_extension": ".py",
   "mimetype": "text/x-python",
   "name": "python",
   "nbconvert_exporter": "python",
   "pygments_lexer": "ipython3",
   "version": "3.7.6"
  }
 },
 "nbformat": 4,
 "nbformat_minor": 4
}
